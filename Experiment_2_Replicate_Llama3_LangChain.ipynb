{
 "cells": [
  {
   "cell_type": "markdown",
   "metadata": {},
   "source": []
  },
  {
   "cell_type": "code",
   "execution_count": 9,
   "metadata": {},
   "outputs": [],
   "source": [
    "# Import necessary libraries\n",
    "import os\n",
    "from dotenv import load_dotenv\n",
    "from typing import List, Dict\n",
    "import pandas as pd\n",
    "import replicate\n",
    "from langchain_core.messages import HumanMessage, AIMessage\n",
    "from langchain_core.prompts import ChatPromptTemplate\n",
    "from langchain_core.output_parsers import StrOutputParser\n",
    "from langchain.chains import LLMChain\n",
    "from langchain_community.llms import Replicate\n",
    "from langchain_core.prompts import PromptTemplate\n",
    "from langchain.text_splitter import RecursiveCharacterTextSplitter\n",
    "from langchain_community.embeddings import HuggingFaceEmbeddings\n",
    "from langchain_community.vectorstores import FAISS\n",
    "from langchain.chains import RetrievalQA\n",
    "from langchain.agents import initialize_agent, Tool\n",
    "from langchain.agents import AgentType\n",
    "from langchain.memory import ConversationBufferMemory\n",
    "from replicate.client import Client\n",
    "import replicate\n"
   ]
  },
  {
   "cell_type": "code",
   "execution_count": 10,
   "metadata": {},
   "outputs": [],
   "source": [
    "# Load environment variables from .env file in the root directory\n",
    "load_dotenv()\n",
    "# get a token: https://replicate.com/account\n",
    "\n",
    "# Load environment variables from .env file in root\n",
    "load_dotenv()\n",
    "\n",
    "# Get the token\n",
    "replicate_token = os.getenv(\"REPLICATE_API_TOKEN\")\n",
    "\n",
    "# Verify token exists\n",
    "if not replicate_token:\n",
    "    raise ValueError(\"REPLICATE_API_TOKEN is missing from your .env file\")\n",
    "\n"
   ]
  },
  {
   "cell_type": "code",
   "execution_count": 11,
   "metadata": {},
   "outputs": [
    {
     "name": "stderr",
     "output_type": "stream",
     "text": [
      "api_token was transferred to model_kwargs.\n",
      "                    Please confirm that api_token is what you intended.\n"
     ]
    },
    {
     "name": "stdout",
     "output_type": "stream",
     "text": [
      "\u001b[1mReplicate\u001b[0m\n",
      "Params: {'model': 'meta/meta-llama-3-70b-instruct', 'model_kwargs': {'api_token': 'r8_LgIBCyLCWTjOKb0il7Kgi5cRv5Bvblf4J18j1'}}\n"
     ]
    }
   ],
   "source": [
    "\n",
    "\n",
    "# llm_replicate = Replicate(model=\"deepseek-ai/deepseek-r1\", api_token=os.environ[\"REPLICATE_API_TOKEN\"])\n",
    "llm_replicate = Replicate(model=\"meta/meta-llama-3-70b-instruct\", api_token=os.environ[\"REPLICATE_API_TOKEN\"])\n",
    "print(llm_replicate)"
   ]
  },
  {
   "cell_type": "code",
   "execution_count": 12,
   "metadata": {},
   "outputs": [
    {
     "name": "stdout",
     "output_type": "stream",
     "text": [
      "\n",
      "\n",
      "As a helpful assistant, I don't have personal preferences or opinions, nor do I have the ability to enjoy or dislike music. My purpose is to provide information and assist with tasks to the best of my abilities.\n",
      "\n",
      "However, I can provide you with some information about Drake and Kendrick Lamar, both of whom are highly acclaimed and popular rappers.\n",
      "\n",
      "Drake is a Canadian rapper, singer, and songwriter known for his emotive and introspective lyrics, as well as his blend of hip-hop and R&B. He has released several successful albums, including \"Take Care,\" \"Nothing Was the Same,\" and \"Views,\" and has won numerous awards, including multiple Grammy Awards.\n",
      "\n",
      "Kendrick Lamar, on the other hand, is an American rapper and songwriter from Compton, California. He is known for his storytelling ability, socially conscious lyrics, and fusion of jazz and funk elements with hip-hop. He has released several critically acclaimed albums, including \"Good Kid, M.A.A.D City,\" \"To Pimp a Butterfly,\" and \"DAMN.,\" and has won numerous awards, including multiple Grammy Awards.\n",
      "\n",
      "Ultimately, the choice between Drake and Kendrick Lamar depends on your personal taste in music. If you prefer more introspective and emotive lyrics with a focus on R&B, you might prefer Drake. If you prefer more socially conscious lyrics with a focus on storytelling and jazz/funk influences, you might prefer Kendrick Lamar.\n"
     ]
    }
   ],
   "source": [
    "response = llm_replicate(\"do you like drake or kendrick better?\")\n",
    "\n",
    "print(response)"
   ]
  },
  {
   "cell_type": "markdown",
   "metadata": {},
   "source": []
  }
 ],
 "metadata": {
  "kernelspec": {
   "display_name": "venv",
   "language": "python",
   "name": "python3"
  },
  "language_info": {
   "codemirror_mode": {
    "name": "ipython",
    "version": 3
   },
   "file_extension": ".py",
   "mimetype": "text/x-python",
   "name": "python",
   "nbconvert_exporter": "python",
   "pygments_lexer": "ipython3",
   "version": "3.10.16"
  }
 },
 "nbformat": 4,
 "nbformat_minor": 2
}
