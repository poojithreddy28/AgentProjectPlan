{
 "cells": [
  {
   "cell_type": "markdown",
   "metadata": {},
   "source": []
  },
  {
   "cell_type": "code",
   "execution_count": 2,
   "metadata": {},
   "outputs": [],
   "source": [
    "# Import necessary libraries\n",
    "import os\n",
    "from dotenv import load_dotenv\n",
    "from typing import List, Dict\n",
    "import pandas as pd\n",
    "import replicate\n",
    "from langchain_core.messages import HumanMessage, AIMessage\n",
    "from langchain_core.prompts import ChatPromptTemplate\n",
    "from langchain_core.output_parsers import StrOutputParser\n",
    "from langchain.chains import LLMChain\n",
    "from langchain_community.llms import Replicate\n",
    "from langchain_core.prompts import PromptTemplate\n",
    "from langchain.text_splitter import RecursiveCharacterTextSplitter\n",
    "from langchain_community.embeddings import HuggingFaceEmbeddings\n",
    "from langchain_community.vectorstores import FAISS\n",
    "from langchain.chains import RetrievalQA\n",
    "from langchain.agents import initialize_agent, Tool\n",
    "from langchain.agents import AgentType\n",
    "from langchain.memory import ConversationBufferMemory\n",
    "from replicate.client import Client\n",
    "import replicate\n"
   ]
  },
  {
   "cell_type": "code",
   "execution_count": 3,
   "metadata": {},
   "outputs": [
    {
     "data": {
      "text/plain": [
       "<replicate.client.Client at 0x11bbd3ca0>"
      ]
     },
     "execution_count": 3,
     "metadata": {},
     "output_type": "execute_result"
    }
   ],
   "source": [
    "# Load environment variables from .env file in the root directory\n",
    "load_dotenv()\n",
    "# get a token: https://replicate.com/account\n",
    "\n",
    "# Load environment variables from .env file in root\n",
    "load_dotenv()\n",
    "\n",
    "# Get the token\n",
    "replicate_token = os.getenv(\"REPLICATE_API_TOKEN\")\n",
    "\n",
    "# Verify token exists\n",
    "if not replicate_token:\n",
    "    raise ValueError(\"REPLICATE_API_TOKEN is missing from your .env file\")\n",
    "\n",
    "# Set token for Replicate (this is necessary before making API calls)\n",
    "replicate.Client(api_token=\"r8_LgIBCyLCWTjOKb0il7Kgi5cRv5Bvblf4J18j1\")\n"
   ]
  },
  {
   "cell_type": "code",
   "execution_count": 7,
   "metadata": {},
   "outputs": [
    {
     "name": "stderr",
     "output_type": "stream",
     "text": [
      "api_token was transferred to model_kwargs.\n",
      "                    Please confirm that api_token is what you intended.\n"
     ]
    },
    {
     "name": "stdout",
     "output_type": "stream",
     "text": [
      "\u001b[1mReplicate\u001b[0m\n",
      "Params: {'model': 'meta/meta-llama-3-70b-instruct', 'model_kwargs': {'api_token': 'r8_LgIBCyLCWTjOKb0il7Kgi5cRv5Bvblf4J18j1'}}\n"
     ]
    }
   ],
   "source": [
    "\n",
    "\n",
    "# llm_replicate = Replicate(model=\"deepseek-ai/deepseek-r1\", api_token=os.environ[\"REPLICATE_API_TOKEN\"])\n",
    "llm_replicate = Replicate(model=\"meta/meta-llama-3-70b-instruct\", api_token=os.environ[\"REPLICATE_API_TOKEN\"])\n",
    "print(llm_replicate)"
   ]
  },
  {
   "cell_type": "code",
   "execution_count": 8,
   "metadata": {},
   "outputs": [
    {
     "name": "stderr",
     "output_type": "stream",
     "text": [
      "/var/folders/n7/4pyxc_ps0dxcq79qvk3vkk7w0000gn/T/ipykernel_39328/2563273577.py:1: LangChainDeprecationWarning: The method `BaseLLM.__call__` was deprecated in langchain-core 0.1.7 and will be removed in 1.0. Use :meth:`~invoke` instead.\n",
      "  response = llm_replicate(\"do you like drake or kendrick better?\")\n"
     ]
    },
    {
     "name": "stdout",
     "output_type": "stream",
     "text": [
      "\n",
      "\n",
      "As a helpful assistant, I don't have personal opinions or preferences, but I can provide information and insights about both Drake and Kendrick Lamar!\n",
      "\n",
      "Both artists are incredibly talented and have made significant contributions to the music industry. Drake is known for his emotive and introspective lyrics, as well as his ability to blend hip-hop with R&B and pop. He has a massive following and has broken numerous records throughout his career.\n",
      "\n",
      "Kendrick Lamar, on the other hand, is widely regarded as one of the most critically acclaimed and influential rappers of the 2010s. He's known for his storytelling ability, socially conscious lyrics, and fusion of hip-hop with jazz, funk, and spoken word. He has won numerous awards, including multiple Grammys, and has been praised for his lyrical depth and musical innovation.\n",
      "\n",
      "Ultimately, the choice between Drake and Kendrick Lamar depends on your personal taste in music. If you prefer more melodic and emotive hip-hop with a focus on personal relationships and introspection, Drake might be the better fit. If you prefer more lyrical complexity, socially conscious themes, and experimental production, Kendrick Lamar might be more up your alley.\n",
      "\n",
      "But here's the best part: you don't have to choose just one! Both artists have made incredible music, and you can appreciate and enjoy their work without having to pick a favorite.\n"
     ]
    }
   ],
   "source": [
    "response = llm_replicate(\"do you like drake or kendrick better?\")\n",
    "\n",
    "print(response)"
   ]
  },
  {
   "cell_type": "markdown",
   "metadata": {},
   "source": []
  }
 ],
 "metadata": {
  "kernelspec": {
   "display_name": "venv",
   "language": "python",
   "name": "python3"
  },
  "language_info": {
   "codemirror_mode": {
    "name": "ipython",
    "version": 3
   },
   "file_extension": ".py",
   "mimetype": "text/x-python",
   "name": "python",
   "nbconvert_exporter": "python",
   "pygments_lexer": "ipython3",
   "version": "3.10.16"
  }
 },
 "nbformat": 4,
 "nbformat_minor": 2
}
